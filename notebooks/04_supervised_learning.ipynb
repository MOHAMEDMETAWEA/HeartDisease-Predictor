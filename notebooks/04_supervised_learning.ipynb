{
 "cells": [
  {
   "cell_type": "code",
   "execution_count": 8,
   "id": "c44e0e80",
   "metadata": {},
   "outputs": [],
   "source": [
    "import pandas as pd\n",
    "import numpy as np\n",
    "from sklearn.linear_model import LogisticRegression\n",
    "from sklearn.ensemble import RandomForestClassifier\n",
    "from sklearn.svm import SVC\n",
    "from sklearn.tree import DecisionTreeClassifier\n",
    "from sklearn.neighbors import KNeighborsClassifier\n",
    "from sklearn.metrics import accuracy_score, classification_report, confusion_matrix\n",
    "from sklearn.model_selection import train_test_split\n",
    "import matplotlib.pyplot as plt\n",
    "import seaborn as sns\n",
    "import os\n",
    "from sklearn.metrics import roc_curve, auc, roc_auc_score"
   ]
  },
  {
   "cell_type": "code",
   "execution_count": 9,
   "id": "46e75731",
   "metadata": {},
   "outputs": [
    {
     "data": {
      "application/vnd.microsoft.datawrangler.viewer.v0+json": {
       "columns": [
        {
         "name": "index",
         "rawType": "int64",
         "type": "integer"
        },
        {
         "name": "trestbps",
         "rawType": "float64",
         "type": "float"
        },
        {
         "name": "oldpeak",
         "rawType": "float64",
         "type": "float"
        },
        {
         "name": "slope",
         "rawType": "float64",
         "type": "float"
        },
        {
         "name": "ca",
         "rawType": "float64",
         "type": "float"
        },
        {
         "name": "age",
         "rawType": "float64",
         "type": "float"
        },
        {
         "name": "cp",
         "rawType": "float64",
         "type": "float"
        },
        {
         "name": "restecg",
         "rawType": "float64",
         "type": "float"
        },
        {
         "name": "target",
         "rawType": "int64",
         "type": "integer"
        }
       ],
       "ref": "96586c77-18f5-4197-bfba-65d774bcad30",
       "rows": [
        [
         "0",
         "-0.4632227346376628",
         "0.5478911865927617",
         "0.1588781802326212",
         "0.3873670624556769",
         "-3.822996382134848",
         "0.0751000591845586",
         "1.4626711539740356",
         "1"
        ],
        [
         "1",
         "1.96074177818774",
         "-0.4697155261709881",
         "-0.7796947678598494",
         "0.5637295762438103",
         "0.2889609897097677",
         "-1.58389389954878",
         "0.0570673010667892",
         "0"
        ],
        [
         "2",
         "1.3640048015246091",
         "0.7637678713055129",
         "0.8371092706031686",
         "-0.8619209720774874",
         "2.301433472499935",
         "-0.9082601303889848",
         "0.7011201583311565",
         "0"
        ],
        [
         "3",
         "-0.2422806662053594",
         "0.645706004320264",
         "-0.8941079232332073",
         "0.5043375801010161",
         "2.109940361595141",
         "0.5071029041117031",
         "0.7286257026504935",
         "0"
        ],
        [
         "4",
         "0.8604932013455049",
         "-0.6256419332606826",
         "-0.0675827774337364",
         "0.4163757579319421",
         "-2.2382798520843403",
         "-2.215166454103207",
         "1.5511624161630262",
         "3"
        ]
       ],
       "shape": {
        "columns": 8,
        "rows": 5
       }
      },
      "text/html": [
       "<div>\n",
       "<style scoped>\n",
       "    .dataframe tbody tr th:only-of-type {\n",
       "        vertical-align: middle;\n",
       "    }\n",
       "\n",
       "    .dataframe tbody tr th {\n",
       "        vertical-align: top;\n",
       "    }\n",
       "\n",
       "    .dataframe thead th {\n",
       "        text-align: right;\n",
       "    }\n",
       "</style>\n",
       "<table border=\"1\" class=\"dataframe\">\n",
       "  <thead>\n",
       "    <tr style=\"text-align: right;\">\n",
       "      <th></th>\n",
       "      <th>trestbps</th>\n",
       "      <th>oldpeak</th>\n",
       "      <th>slope</th>\n",
       "      <th>ca</th>\n",
       "      <th>age</th>\n",
       "      <th>cp</th>\n",
       "      <th>restecg</th>\n",
       "      <th>target</th>\n",
       "    </tr>\n",
       "  </thead>\n",
       "  <tbody>\n",
       "    <tr>\n",
       "      <th>0</th>\n",
       "      <td>-0.463223</td>\n",
       "      <td>0.547891</td>\n",
       "      <td>0.158878</td>\n",
       "      <td>0.387367</td>\n",
       "      <td>-3.822996</td>\n",
       "      <td>0.075100</td>\n",
       "      <td>1.462671</td>\n",
       "      <td>1</td>\n",
       "    </tr>\n",
       "    <tr>\n",
       "      <th>1</th>\n",
       "      <td>1.960742</td>\n",
       "      <td>-0.469716</td>\n",
       "      <td>-0.779695</td>\n",
       "      <td>0.563730</td>\n",
       "      <td>0.288961</td>\n",
       "      <td>-1.583894</td>\n",
       "      <td>0.057067</td>\n",
       "      <td>0</td>\n",
       "    </tr>\n",
       "    <tr>\n",
       "      <th>2</th>\n",
       "      <td>1.364005</td>\n",
       "      <td>0.763768</td>\n",
       "      <td>0.837109</td>\n",
       "      <td>-0.861921</td>\n",
       "      <td>2.301433</td>\n",
       "      <td>-0.908260</td>\n",
       "      <td>0.701120</td>\n",
       "      <td>0</td>\n",
       "    </tr>\n",
       "    <tr>\n",
       "      <th>3</th>\n",
       "      <td>-0.242281</td>\n",
       "      <td>0.645706</td>\n",
       "      <td>-0.894108</td>\n",
       "      <td>0.504338</td>\n",
       "      <td>2.109940</td>\n",
       "      <td>0.507103</td>\n",
       "      <td>0.728626</td>\n",
       "      <td>0</td>\n",
       "    </tr>\n",
       "    <tr>\n",
       "      <th>4</th>\n",
       "      <td>0.860493</td>\n",
       "      <td>-0.625642</td>\n",
       "      <td>-0.067583</td>\n",
       "      <td>0.416376</td>\n",
       "      <td>-2.238280</td>\n",
       "      <td>-2.215166</td>\n",
       "      <td>1.551162</td>\n",
       "      <td>3</td>\n",
       "    </tr>\n",
       "  </tbody>\n",
       "</table>\n",
       "</div>"
      ],
      "text/plain": [
       "   trestbps   oldpeak     slope        ca       age        cp   restecg  \\\n",
       "0 -0.463223  0.547891  0.158878  0.387367 -3.822996  0.075100  1.462671   \n",
       "1  1.960742 -0.469716 -0.779695  0.563730  0.288961 -1.583894  0.057067   \n",
       "2  1.364005  0.763768  0.837109 -0.861921  2.301433 -0.908260  0.701120   \n",
       "3 -0.242281  0.645706 -0.894108  0.504338  2.109940  0.507103  0.728626   \n",
       "4  0.860493 -0.625642 -0.067583  0.416376 -2.238280 -2.215166  1.551162   \n",
       "\n",
       "   target  \n",
       "0       1  \n",
       "1       0  \n",
       "2       0  \n",
       "3       0  \n",
       "4       3  "
      ]
     },
     "execution_count": 9,
     "metadata": {},
     "output_type": "execute_result"
    }
   ],
   "source": [
    "# Load data\n",
    "data = pd.read_csv(r\"D:\\Heart_Disease_Project\\data\\heart_disease_data_selected_features.csv\")\n",
    "data.head()"
   ]
  },
  {
   "cell_type": "code",
   "execution_count": 10,
   "id": "94bd59b0",
   "metadata": {},
   "outputs": [
    {
     "name": "stdout",
     "output_type": "stream",
     "text": [
      "<class 'pandas.core.frame.DataFrame'>\n",
      "RangeIndex: 212 entries, 0 to 211\n",
      "Data columns (total 8 columns):\n",
      " #   Column    Non-Null Count  Dtype  \n",
      "---  ------    --------------  -----  \n",
      " 0   trestbps  212 non-null    float64\n",
      " 1   oldpeak   212 non-null    float64\n",
      " 2   slope     212 non-null    float64\n",
      " 3   ca        212 non-null    float64\n",
      " 4   age       212 non-null    float64\n",
      " 5   cp        212 non-null    float64\n",
      " 6   restecg   212 non-null    float64\n",
      " 7   target    212 non-null    int64  \n",
      "dtypes: float64(7), int64(1)\n",
      "memory usage: 13.4 KB\n"
     ]
    }
   ],
   "source": [
    "data.info()"
   ]
  },
  {
   "cell_type": "code",
   "execution_count": 11,
   "id": "dd46a535",
   "metadata": {},
   "outputs": [
    {
     "data": {
      "application/vnd.microsoft.datawrangler.viewer.v0+json": {
       "columns": [
        {
         "name": "index",
         "rawType": "object",
         "type": "string"
        },
        {
         "name": "trestbps",
         "rawType": "float64",
         "type": "float"
        },
        {
         "name": "oldpeak",
         "rawType": "float64",
         "type": "float"
        },
        {
         "name": "slope",
         "rawType": "float64",
         "type": "float"
        },
        {
         "name": "ca",
         "rawType": "float64",
         "type": "float"
        },
        {
         "name": "age",
         "rawType": "float64",
         "type": "float"
        },
        {
         "name": "cp",
         "rawType": "float64",
         "type": "float"
        },
        {
         "name": "restecg",
         "rawType": "float64",
         "type": "float"
        },
        {
         "name": "target",
         "rawType": "float64",
         "type": "float"
        }
       ],
       "ref": "bd01fe31-bb1d-48d5-be73-dee80baf61b2",
       "rows": [
        [
         "count",
         "212.0",
         "212.0",
         "212.0",
         "212.0",
         "212.0",
         "212.0",
         "212.0",
         "212.0"
        ],
        [
         "mean",
         "3.35161667811368e-17",
         "-2.0947604238210502e-17",
         "5.44637710193473e-17",
         "8.3790416952842e-18",
         "8.3790416952842e-18",
         "-7.54113752575578e-17",
         "6.28428127146315e-18",
         "0.8301886792452831"
        ],
        [
         "std",
         "1.0163008784385044",
         "0.7217904668357811",
         "0.6615543806282245",
         "0.6081942275796952",
         "1.854860671485727",
         "1.0806027005365042",
         "0.9208167022774774",
         "1.1640076066363376"
        ],
        [
         "min",
         "-3.1043818584589955",
         "-1.7071304100220512",
         "-1.5913072132888249",
         "-1.554515615627069",
         "-3.822996382134848",
         "-2.844816842892625",
         "-2.499123306352273",
         "0.0"
        ],
        [
         "25%",
         "-0.6814011813874858",
         "-0.4750328247334494",
         "-0.45887934264148944",
         "-0.4246838071586694",
         "-1.5226393898159516",
         "-0.7369403275315495",
         "-0.5221012624959414",
         "0.0"
        ],
        [
         "50%",
         "0.01756036841388435",
         "0.026504801457211097",
         "0.0236196607266016",
         "0.0061997880223276",
         "0.26103924564923936",
         "0.14036425154178678",
         "0.0373273491180619",
         "0.0"
        ],
        [
         "75%",
         "0.6292823615835319",
         "0.4816651590317988",
         "0.5081975519329799",
         "0.44356362541136896",
         "1.466328398748522",
         "0.8070073189188743",
         "0.5329511749466955",
         "1.0"
        ],
        [
         "max",
         "2.826851312207769",
         "2.370145037718998",
         "1.3694215133785512",
         "1.713042982896818",
         "3.454956789436529",
         "2.452995280580552",
         "2.767232728171068",
         "4.0"
        ]
       ],
       "shape": {
        "columns": 8,
        "rows": 8
       }
      },
      "text/html": [
       "<div>\n",
       "<style scoped>\n",
       "    .dataframe tbody tr th:only-of-type {\n",
       "        vertical-align: middle;\n",
       "    }\n",
       "\n",
       "    .dataframe tbody tr th {\n",
       "        vertical-align: top;\n",
       "    }\n",
       "\n",
       "    .dataframe thead th {\n",
       "        text-align: right;\n",
       "    }\n",
       "</style>\n",
       "<table border=\"1\" class=\"dataframe\">\n",
       "  <thead>\n",
       "    <tr style=\"text-align: right;\">\n",
       "      <th></th>\n",
       "      <th>trestbps</th>\n",
       "      <th>oldpeak</th>\n",
       "      <th>slope</th>\n",
       "      <th>ca</th>\n",
       "      <th>age</th>\n",
       "      <th>cp</th>\n",
       "      <th>restecg</th>\n",
       "      <th>target</th>\n",
       "    </tr>\n",
       "  </thead>\n",
       "  <tbody>\n",
       "    <tr>\n",
       "      <th>count</th>\n",
       "      <td>2.120000e+02</td>\n",
       "      <td>2.120000e+02</td>\n",
       "      <td>2.120000e+02</td>\n",
       "      <td>2.120000e+02</td>\n",
       "      <td>2.120000e+02</td>\n",
       "      <td>2.120000e+02</td>\n",
       "      <td>2.120000e+02</td>\n",
       "      <td>212.000000</td>\n",
       "    </tr>\n",
       "    <tr>\n",
       "      <th>mean</th>\n",
       "      <td>3.351617e-17</td>\n",
       "      <td>-2.094760e-17</td>\n",
       "      <td>5.446377e-17</td>\n",
       "      <td>8.379042e-18</td>\n",
       "      <td>8.379042e-18</td>\n",
       "      <td>-7.541138e-17</td>\n",
       "      <td>6.284281e-18</td>\n",
       "      <td>0.830189</td>\n",
       "    </tr>\n",
       "    <tr>\n",
       "      <th>std</th>\n",
       "      <td>1.016301e+00</td>\n",
       "      <td>7.217905e-01</td>\n",
       "      <td>6.615544e-01</td>\n",
       "      <td>6.081942e-01</td>\n",
       "      <td>1.854861e+00</td>\n",
       "      <td>1.080603e+00</td>\n",
       "      <td>9.208167e-01</td>\n",
       "      <td>1.164008</td>\n",
       "    </tr>\n",
       "    <tr>\n",
       "      <th>min</th>\n",
       "      <td>-3.104382e+00</td>\n",
       "      <td>-1.707130e+00</td>\n",
       "      <td>-1.591307e+00</td>\n",
       "      <td>-1.554516e+00</td>\n",
       "      <td>-3.822996e+00</td>\n",
       "      <td>-2.844817e+00</td>\n",
       "      <td>-2.499123e+00</td>\n",
       "      <td>0.000000</td>\n",
       "    </tr>\n",
       "    <tr>\n",
       "      <th>25%</th>\n",
       "      <td>-6.814012e-01</td>\n",
       "      <td>-4.750328e-01</td>\n",
       "      <td>-4.588793e-01</td>\n",
       "      <td>-4.246838e-01</td>\n",
       "      <td>-1.522639e+00</td>\n",
       "      <td>-7.369403e-01</td>\n",
       "      <td>-5.221013e-01</td>\n",
       "      <td>0.000000</td>\n",
       "    </tr>\n",
       "    <tr>\n",
       "      <th>50%</th>\n",
       "      <td>1.756037e-02</td>\n",
       "      <td>2.650480e-02</td>\n",
       "      <td>2.361966e-02</td>\n",
       "      <td>6.199788e-03</td>\n",
       "      <td>2.610392e-01</td>\n",
       "      <td>1.403643e-01</td>\n",
       "      <td>3.732735e-02</td>\n",
       "      <td>0.000000</td>\n",
       "    </tr>\n",
       "    <tr>\n",
       "      <th>75%</th>\n",
       "      <td>6.292824e-01</td>\n",
       "      <td>4.816652e-01</td>\n",
       "      <td>5.081976e-01</td>\n",
       "      <td>4.435636e-01</td>\n",
       "      <td>1.466328e+00</td>\n",
       "      <td>8.070073e-01</td>\n",
       "      <td>5.329512e-01</td>\n",
       "      <td>1.000000</td>\n",
       "    </tr>\n",
       "    <tr>\n",
       "      <th>max</th>\n",
       "      <td>2.826851e+00</td>\n",
       "      <td>2.370145e+00</td>\n",
       "      <td>1.369422e+00</td>\n",
       "      <td>1.713043e+00</td>\n",
       "      <td>3.454957e+00</td>\n",
       "      <td>2.452995e+00</td>\n",
       "      <td>2.767233e+00</td>\n",
       "      <td>4.000000</td>\n",
       "    </tr>\n",
       "  </tbody>\n",
       "</table>\n",
       "</div>"
      ],
      "text/plain": [
       "           trestbps       oldpeak         slope            ca           age  \\\n",
       "count  2.120000e+02  2.120000e+02  2.120000e+02  2.120000e+02  2.120000e+02   \n",
       "mean   3.351617e-17 -2.094760e-17  5.446377e-17  8.379042e-18  8.379042e-18   \n",
       "std    1.016301e+00  7.217905e-01  6.615544e-01  6.081942e-01  1.854861e+00   \n",
       "min   -3.104382e+00 -1.707130e+00 -1.591307e+00 -1.554516e+00 -3.822996e+00   \n",
       "25%   -6.814012e-01 -4.750328e-01 -4.588793e-01 -4.246838e-01 -1.522639e+00   \n",
       "50%    1.756037e-02  2.650480e-02  2.361966e-02  6.199788e-03  2.610392e-01   \n",
       "75%    6.292824e-01  4.816652e-01  5.081976e-01  4.435636e-01  1.466328e+00   \n",
       "max    2.826851e+00  2.370145e+00  1.369422e+00  1.713043e+00  3.454957e+00   \n",
       "\n",
       "                 cp       restecg      target  \n",
       "count  2.120000e+02  2.120000e+02  212.000000  \n",
       "mean  -7.541138e-17  6.284281e-18    0.830189  \n",
       "std    1.080603e+00  9.208167e-01    1.164008  \n",
       "min   -2.844817e+00 -2.499123e+00    0.000000  \n",
       "25%   -7.369403e-01 -5.221013e-01    0.000000  \n",
       "50%    1.403643e-01  3.732735e-02    0.000000  \n",
       "75%    8.070073e-01  5.329512e-01    1.000000  \n",
       "max    2.452995e+00  2.767233e+00    4.000000  "
      ]
     },
     "execution_count": 11,
     "metadata": {},
     "output_type": "execute_result"
    }
   ],
   "source": [
    "data.describe()"
   ]
  },
  {
   "cell_type": "code",
   "execution_count": 12,
   "id": "58b61a60",
   "metadata": {},
   "outputs": [
    {
     "data": {
      "application/vnd.microsoft.datawrangler.viewer.v0+json": {
       "columns": [
        {
         "name": "index",
         "rawType": "object",
         "type": "string"
        },
        {
         "name": "0",
         "rawType": "int64",
         "type": "integer"
        }
       ],
       "ref": "e90e8efe-61a5-47ce-918f-79d33e6b395e",
       "rows": [
        [
         "trestbps",
         "0"
        ],
        [
         "oldpeak",
         "0"
        ],
        [
         "slope",
         "0"
        ],
        [
         "ca",
         "0"
        ],
        [
         "age",
         "0"
        ],
        [
         "cp",
         "0"
        ],
        [
         "restecg",
         "0"
        ],
        [
         "target",
         "0"
        ]
       ],
       "shape": {
        "columns": 1,
        "rows": 8
       }
      },
      "text/plain": [
       "trestbps    0\n",
       "oldpeak     0\n",
       "slope       0\n",
       "ca          0\n",
       "age         0\n",
       "cp          0\n",
       "restecg     0\n",
       "target      0\n",
       "dtype: int64"
      ]
     },
     "execution_count": 12,
     "metadata": {},
     "output_type": "execute_result"
    }
   ],
   "source": [
    "data.isna().sum()"
   ]
  },
  {
   "cell_type": "code",
   "execution_count": 13,
   "id": "172cba75",
   "metadata": {},
   "outputs": [],
   "source": [
    "X = data.drop(columns=['target'])\n",
    "y = data['target']"
   ]
  },
  {
   "cell_type": "code",
   "execution_count": 14,
   "id": "d4ce70c6",
   "metadata": {},
   "outputs": [
    {
     "data": {
      "application/vnd.microsoft.datawrangler.viewer.v0+json": {
       "columns": [
        {
         "name": "target",
         "rawType": "int64",
         "type": "integer"
        },
        {
         "name": "count",
         "rawType": "int64",
         "type": "integer"
        }
       ],
       "ref": "7e4e85fc-7769-45e6-b2ff-0331a6cf0fbb",
       "rows": [
        [
         "0",
         "121"
        ],
        [
         "1",
         "42"
        ],
        [
         "3",
         "22"
        ],
        [
         "2",
         "20"
        ],
        [
         "4",
         "7"
        ]
       ],
       "shape": {
        "columns": 1,
        "rows": 5
       }
      },
      "text/plain": [
       "target\n",
       "0    121\n",
       "1     42\n",
       "3     22\n",
       "2     20\n",
       "4      7\n",
       "Name: count, dtype: int64"
      ]
     },
     "execution_count": 14,
     "metadata": {},
     "output_type": "execute_result"
    }
   ],
   "source": [
    "y.value_counts()"
   ]
  },
  {
   "cell_type": "code",
   "execution_count": null,
   "id": "61d37179",
   "metadata": {},
   "outputs": [],
   "source": [
    "# split the data into training and testing sets\n",
    "X_train, X_test, y_train, y_test = train_test_split(X, y, test_size=0.2, random_state=42)"
   ]
  },
  {
   "cell_type": "code",
   "execution_count": 17,
   "id": "b873c159",
   "metadata": {},
   "outputs": [
    {
     "name": "stdout",
     "output_type": "stream",
     "text": [
      "Logistic Regression Accuracy: 0.6279\n",
      "              precision    recall  f1-score   support\n",
      "\n",
      "           0       0.78      0.78      0.78        27\n",
      "           1       0.12      0.14      0.13         7\n",
      "           2       0.67      0.50      0.57         4\n",
      "           3       0.60      0.60      0.60         5\n",
      "\n",
      "    accuracy                           0.63        43\n",
      "   macro avg       0.54      0.51      0.52        43\n",
      "weighted avg       0.64      0.63      0.63        43\n",
      "\n",
      "Confusion Matrix:\n",
      " [[21  5  0  1]\n",
      " [ 5  1  1  0]\n",
      " [ 0  1  2  1]\n",
      " [ 1  1  0  3]]\n",
      "Random Forest Accuracy: 0.5814\n",
      "              precision    recall  f1-score   support\n",
      "\n",
      "           0       0.75      0.78      0.76        27\n",
      "           1       0.00      0.00      0.00         7\n",
      "           2       0.25      0.25      0.25         4\n",
      "           3       0.75      0.60      0.67         5\n",
      "\n",
      "    accuracy                           0.58        43\n",
      "   macro avg       0.44      0.41      0.42        43\n",
      "weighted avg       0.58      0.58      0.58        43\n",
      "\n",
      "Confusion Matrix:\n",
      " [[21  5  1  0]\n",
      " [ 5  0  2  0]\n",
      " [ 1  1  1  1]\n",
      " [ 1  1  0  3]]\n",
      "Support Vector Machine Accuracy: 0.5814\n",
      "              precision    recall  f1-score   support\n",
      "\n",
      "           0       0.78      0.78      0.78        27\n",
      "           1       0.14      0.29      0.19         7\n",
      "           2       1.00      0.25      0.40         4\n",
      "           3       1.00      0.20      0.33         5\n",
      "\n",
      "    accuracy                           0.58        43\n",
      "   macro avg       0.73      0.38      0.43        43\n",
      "weighted avg       0.72      0.58      0.60        43\n",
      "\n",
      "Confusion Matrix:\n",
      " [[21  6  0  0]\n",
      " [ 5  2  0  0]\n",
      " [ 0  3  1  0]\n",
      " [ 1  3  0  1]]\n",
      "Decision Tree Accuracy: 0.5581\n",
      "              precision    recall  f1-score   support\n",
      "\n",
      "           0       0.75      0.78      0.76        27\n",
      "           1       0.00      0.00      0.00         7\n",
      "           2       0.20      0.50      0.29         4\n",
      "           3       0.50      0.20      0.29         5\n",
      "\n",
      "    accuracy                           0.56        43\n",
      "   macro avg       0.36      0.37      0.33        43\n",
      "weighted avg       0.55      0.56      0.54        43\n",
      "\n",
      "Confusion Matrix:\n",
      " [[21  2  3  1]\n",
      " [ 5  0  2  0]\n",
      " [ 1  1  2  0]\n",
      " [ 1  0  3  1]]\n",
      "K-Nearest Neighbors Accuracy: 0.5814\n",
      "              precision    recall  f1-score   support\n",
      "\n",
      "           0       0.78      0.78      0.78        27\n",
      "           1       0.29      0.29      0.29         7\n",
      "           2       0.17      0.25      0.20         4\n",
      "           3       0.33      0.20      0.25         5\n",
      "\n",
      "    accuracy                           0.58        43\n",
      "   macro avg       0.39      0.38      0.38        43\n",
      "weighted avg       0.59      0.58      0.58        43\n",
      "\n",
      "Confusion Matrix:\n",
      " [[21  3  2  1]\n",
      " [ 4  2  1  0]\n",
      " [ 1  1  1  1]\n",
      " [ 1  1  2  1]]\n"
     ]
    },
    {
     "data": {
      "image/png": "[encoded data removed]",
      "text/plain": [
       "<Figure size 800x600 with 2 Axes>"
      ]
     },
     "metadata": {},
     "output_type": "display_data"
    }
   ],
   "source": [
    "# train and evaluate models\n",
    "models = {\n",
    "    'Logistic Regression': LogisticRegression(max_iter=1000),\n",
    "    'Random Forest': RandomForestClassifier(n_estimators=100, random_state=42),\n",
    "    'Support Vector Machine': SVC(probability=True, random_state=42),\n",
    "    'Decision Tree': DecisionTreeClassifier(random_state=42),\n",
    "    'K-Nearest Neighbors': KNeighborsClassifier()\n",
    "}\n",
    "results = {}\n",
    "\n",
    "for model_name, model in models.items():\n",
    "    model.fit(X_train, y_train)\n",
    "    y_pred = model.predict(X_test)\n",
    "    accuracy = accuracy_score(y_test, y_pred)\n",
    "    results[model_name] = {\n",
    "        'accuracy': accuracy,\n",
    "        'classification_report': classification_report(y_test, y_pred),\n",
    "        'confusion_matrix': confusion_matrix(y_test, y_pred)\n",
    "    }\n",
    "    print(f\"{model_name} Accuracy: {accuracy:.4f}\")\n",
    "    print(results[model_name]['classification_report'])\n",
    "    print(\"Confusion Matrix:\\n\", results[model_name]['confusion_matrix'])\n",
    "\n",
    "\n",
    "# Plot confusion matrix for the best model\n",
    "best_model_name = max(results, key=lambda k: results[k]['accuracy'])\n",
    "best_confusion_matrix = results[best_model_name]['confusion_matrix']\n",
    "plt.figure(figsize=(8, 6))\n",
    "sns.heatmap(best_confusion_matrix, annot=True, fmt='d', cmap='Blues', \n",
    "            xticklabels=['No Heart Disease', 'Heart Disease'],\n",
    "            yticklabels=['No Heart Disease', 'Heart Disease'])\n",
    "plt.title(f'Confusion Matrix for {best_model_name}')\n",
    "plt.xlabel('Predicted')\n",
    "plt.ylabel('Actual')\n",
    "plt.show()"
   ]
  },
  {
   "cell_type": "code",
   "execution_count": 19,
   "id": "e2332e4c",
   "metadata": {},
   "outputs": [
    {
     "name": "stderr",
     "output_type": "stream",
     "text": [
      "c:\\Users\\DELL\\anaconda3\\Lib\\site-packages\\sklearn\\metrics\\_ranking.py:1183: UndefinedMetricWarning: No positive samples in y_true, true positive value should be meaningless\n",
      "  warnings.warn(\n"
     ]
    },
    {
     "data": {
      "image/png": "[encoded data removed]",
      "text/plain": [
       "<Figure size 800x600 with 1 Axes>"
      ]
     },
     "metadata": {},
     "output_type": "display_data"
    }
   ],
   "source": [
    "from sklearn.preprocessing import label_binarize\n",
    "\n",
    "# Binarize the output\n",
    "classes = np.unique(y)\n",
    "y_test_bin = label_binarize(y_test, classes=classes)\n",
    "y_scores = best_model.predict_proba(X_test)\n",
    "\n",
    "fpr = dict()\n",
    "tpr = dict()\n",
    "roc_auc = dict()\n",
    "for i, class_label in enumerate(classes):\n",
    "    fpr[i], tpr[i], _ = roc_curve(y_test_bin[:, i], y_scores[:, i])\n",
    "    roc_auc[i] = auc(fpr[i], tpr[i])\n",
    "\n",
    "plt.figure(figsize=(8, 6))\n",
    "for i, class_label in enumerate(classes):\n",
    "    plt.plot(fpr[i], tpr[i], label=f'Class {class_label} (AUC = {roc_auc[i]:.2f})')\n",
    "plt.plot([0, 1], [0, 1], color='red', linestyle='--')\n",
    "plt.xlim([0.0, 1.0])\n",
    "plt.ylim([0.0, 1.05])\n",
    "plt.xlabel('False Positive Rate')\n",
    "plt.ylabel('True Positive Rate')\n",
    "plt.title(f'ROC Curve for {best_model_name} (One-vs-Rest)')\n",
    "plt.legend(loc='lower right')\n",
    "plt.show()"
   ]
  },
  {
   "cell_type": "code",
   "execution_count": 22,
   "id": "0c6973fb",
   "metadata": {},
   "outputs": [
    {
     "name": "stdout",
     "output_type": "stream",
     "text": [
      "Model saved to D:\\Heart_Disease_Project\\models\\Logistic_Regression.pkl\n"
     ]
    }
   ],
   "source": [
    "# save model \n",
    "import joblib\n",
    "model_path = r\"D:\\Heart_Disease_Project\\models\\Logistic_Regression.pkl\"\n",
    "joblib.dump(models['Logistic Regression'], model_path)\n",
    "print(f\"Model saved to {model_path}\")"
   ]
  },
  {
   "cell_type": "code",
   "execution_count": null,
   "id": "e735e6ee",
   "metadata": {},
   "outputs": [],
   "source": []
  }
 ],
 "metadata": {
  "kernelspec": {
   "display_name": "base",
   "language": "python",
   "name": "python3"
  },
  "language_info": {
   "codemirror_mode": {
    "name": "ipython",
    "version": 3
   },
   "file_extension": ".py",
   "mimetype": "text/x-python",
   "name": "python",
   "nbconvert_exporter": "python",
   "pygments_lexer": "ipython3",
   "version": "3.12.7"
  }
 },
 "nbformat": 4,
 "nbformat_minor": 5
}
